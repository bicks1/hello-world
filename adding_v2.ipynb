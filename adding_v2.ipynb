{
  "nbformat": 4,
  "nbformat_minor": 0,
  "metadata": {
    "colab": {
      "provenance": [],
      "authorship_tag": "ABX9TyMt821tl2ottU5YjAxg3QxS",
      "include_colab_link": true
    },
    "kernelspec": {
      "name": "python3",
      "display_name": "Python 3"
    },
    "language_info": {
      "name": "python"
    }
  },
  "cells": [
    {
      "cell_type": "markdown",
      "metadata": {
        "id": "view-in-github",
        "colab_type": "text"
      },
      "source": [
        "<a href=\"https://colab.research.google.com/github/bicks1/hello-world/blob/testing_version_control_colab/adding_v2.ipynb\" target=\"_parent\"><img src=\"https://colab.research.google.com/assets/colab-badge.svg\" alt=\"Open In Colab\"/></a>"
      ]
    },
    {
      "cell_type": "code",
      "execution_count": null,
      "metadata": {
        "id": "qU7qpZR40O48"
      },
      "outputs": [],
      "source": [
        "def add(num1, num2):\n",
        "  sum = num1 + num2\n",
        "  return sum"
      ]
    },
    {
      "cell_type": "code",
      "source": [
        "def subtract(num1, num2):\n",
        "  total = num1 - num2\n",
        "  return total"
      ],
      "metadata": {
        "id": "nFXeCHa40za9"
      },
      "execution_count": null,
      "outputs": []
    }
  ]
}